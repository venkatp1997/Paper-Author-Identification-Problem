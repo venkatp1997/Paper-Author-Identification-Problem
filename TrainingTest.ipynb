{
 "cells": [
  {
   "cell_type": "code",
   "execution_count": 2,
   "metadata": {
    "collapsed": true
   },
   "outputs": [],
   "source": [
    "import pickle as pi\n",
    "import tfidf\n",
    "import vecfeature\n",
    "import random"
   ]
  },
  {
   "cell_type": "code",
   "execution_count": 2,
   "metadata": {
    "collapsed": false
   },
   "outputs": [],
   "source": [
    "aP=pi.load(open(\"aP1.p\",\"rb\"))\n",
    "aKw=pi.load(open(\"aKw.p\",\"rb\"))\n",
    "kWp=pi.load(open(\"kWp.p\",\"rb\"))\n",
    "jKw=pi.load(open(\"jKw.p\",\"rb\"))\n",
    "PJ=pi.load(open(\"PJ.p\",\"rb\"))\n",
    "A=pi.load(open(\"A.p\",\"rb\"))\n",
    "T=tfidf.tfidf(\"aKw.p\")"
   ]
  },
  {
   "cell_type": "code",
   "execution_count": 8,
   "metadata": {
    "collapsed": false
   },
   "outputs": [],
   "source": [
    "# Returns tuple of a list of features given authorID. (First Index: True)\n",
    "def train_test(authorID,aKw,kWp,aP,jKw,PJ,A,T):\n",
    "    pos=[]\n",
    "    neg=[]\n",
    "    neg_sample_paperIDs=[]\n",
    "    for i in aP[authorID]:\n",
    "        pos.append(vecfeature.vec(i,authorID,aKw,kWp,aP,jKw,PJ,A,T))\n",
    "    len_neg=2*len(pos)\n",
    "    while True:\n",
    "        neg_sample=random.sample(aP,len_neg)\n",
    "        flag=0\n",
    "        for i in neg_sample:\n",
    "            if i[0]==authorID:\n",
    "                flag=1\n",
    "        if flag==0:\n",
    "            break\n",
    "    for i in neg_sample:\n",
    "        for j in i[1]:\n",
    "            neg_sample_paperIDs.append(j)\n",
    "    for i in neg_sample_paperIDs:\n",
    "        neg.append(vecfeature.vec(i,authorID,aKw,kWp,aP,jKw,PJ,A,T))\n",
    "    return (pos,neg)"
   ]
  },
  {
   "cell_type": "code",
   "execution_count": 8,
   "metadata": {
    "collapsed": true
   },
   "outputs": [],
   "source": [
    "aP=pi.load(open(\"aP1.p\",\"rb\"))"
   ]
  },
  {
   "cell_type": "code",
   "execution_count": 9,
   "metadata": {
    "collapsed": false
   },
   "outputs": [
    {
     "data": {
      "text/plain": [
       "['688974', '1834666']"
      ]
     },
     "execution_count": 9,
     "metadata": {},
     "output_type": "execute_result"
    }
   ],
   "source": [
    "aP[731]"
   ]
  },
  {
   "cell_type": "code",
   "execution_count": null,
   "metadata": {
    "collapsed": true
   },
   "outputs": [],
   "source": []
  }
 ],
 "metadata": {
  "kernelspec": {
   "display_name": "Python 3",
   "language": "python",
   "name": "python3"
  },
  "language_info": {
   "codemirror_mode": {
    "name": "ipython",
    "version": 3
   },
   "file_extension": ".py",
   "mimetype": "text/x-python",
   "name": "python",
   "nbconvert_exporter": "python",
   "pygments_lexer": "ipython3",
   "version": "3.5.2"
  }
 },
 "nbformat": 4,
 "nbformat_minor": 0
}
